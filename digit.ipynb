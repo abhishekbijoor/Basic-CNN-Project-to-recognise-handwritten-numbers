{
  "nbformat": 4,
  "nbformat_minor": 0,
  "metadata": {
    "colab": {
      "name": "digit.ipynb",
      "provenance": [],
      "collapsed_sections": []
    },
    "kernelspec": {
      "name": "python3",
      "display_name": "Python 3"
    }
  },
  "cells": [
    {
      "cell_type": "code",
      "metadata": {
        "id": "HezVspELDhTK",
        "colab_type": "code",
        "outputId": "c1578718-f936-4615-da63-d37a3103e045",
        "colab": {
          "base_uri": "https://localhost:8080/",
          "height": 304
        }
      },
      "source": [
        "from keras.datasets import mnist\n",
        "from matplotlib import pyplot\n",
        "(trainX,trainy),(testX,testy)=mnist.load_data()\n",
        "print(\"trainX %s and trainy %s\"%(trainX.shape,trainy.shape))\n",
        "print(\"testX %s,testY %s\"%(testX.shape,testy.shape))\n",
        "\n",
        "for i in range(9):\n",
        "  pyplot.subplot(440+1+i)\n",
        "  pyplot.imshow(trainX[i],cmap=pyplot.get_cmap('gray'))\n",
        "\n",
        "pyplot.show()"
      ],
      "execution_count": 1,
      "outputs": [
        {
          "output_type": "stream",
          "text": [
            "Using TensorFlow backend.\n"
          ],
          "name": "stderr"
        },
        {
          "output_type": "stream",
          "text": [
            "Downloading data from https://s3.amazonaws.com/img-datasets/mnist.npz\n",
            "11493376/11490434 [==============================] - 1s 0us/step\n",
            "trainX (60000, 28, 28) and trainy (60000,)\n",
            "testX (10000, 28, 28),testY (10000,)\n"
          ],
          "name": "stdout"
        },
        {
          "output_type": "display_data",
          "data": {
            "image/png": "[encoded data removed]",
            "text/plain": [
              "<Figure size 432x288 with 9 Axes>"
            ]
          },
          "metadata": {
            "tags": [],
            "needs_background": "light"
          }
        }
      ]
    },
    {
      "cell_type": "code",
      "metadata": {
        "id": "PD8DsFZRlxAO",
        "colab_type": "code",
        "colab": {}
      },
      "source": [
        "from numpy import mean\n",
        "from numpy import std\n",
        "from matplotlib import pyplot\n",
        "from sklearn.model_selection import KFold\n",
        "from keras.datasets import mnist\n",
        "from keras.utils import to_categorical\n",
        "from keras.models import Sequential\n",
        "from keras.layers import Conv2D\n",
        "from keras.layers import MaxPooling2D\n",
        "from keras.layers import Dense\n",
        "from keras.layers import Flatten\n",
        "from keras.optimizers import SGD"
      ],
      "execution_count": 0,
      "outputs": []
    },
    {
      "cell_type": "code",
      "metadata": {
        "id": "djXLxwNI1TBZ",
        "colab_type": "code",
        "colab": {}
      },
      "source": [
        ""
      ],
      "execution_count": 0,
      "outputs": []
    },
    {
      "cell_type": "code",
      "metadata": {
        "id": "Qrqdwuigl1Tn",
        "colab_type": "code",
        "colab": {}
      },
      "source": [
        "def load_dataset():\n",
        "    (trainX,trainy),(testX,testy)=mnist.load_data()\n",
        "    trainX=trainX.reshape(trainX.shape[0],28,28,1)\n",
        "    testX=testX.reshape(testX.shape[0],28,28,1)\n",
        "    trainy=to_categorical(trainy)\n",
        "    testy=to_categorical(testy)\n",
        "    return trainX,trainy,testX,testy\n",
        "\n"
      ],
      "execution_count": 0,
      "outputs": []
    },
    {
      "cell_type": "code",
      "metadata": {
        "id": "l1Cnf59949sd",
        "colab_type": "code",
        "colab": {}
      },
      "source": [
        "def prep_pixel(train,test):\n",
        "    train_norm=train.astype('float32')\n",
        "    test_norm=test.astype('float32')\n",
        "    train_norm=train_norm/255.0\n",
        "    test_norm=test_norm/255.0\n",
        "    return train_norm,test_norm\n"
      ],
      "execution_count": 0,
      "outputs": []
    },
    {
      "cell_type": "code",
      "metadata": {
        "id": "UYfxA5I2CNCc",
        "colab_type": "code",
        "colab": {}
      },
      "source": [
        "def define_model():\n",
        "    model=Sequential()\n",
        "    model.add(Conv2D(32,(3,3),activation='relu',kernel_initializer='he_uniform',input_shape=(28,28,1)))\n",
        "    model.add(MaxPooling2D((2,2)))\n",
        "    model.add(Flatten())\n",
        "    model.add(Dense(100,activation='relu',kernel_initializer='he_uniform'))\n",
        "    model.add(Dense(10,activation='softmax'))\n",
        "    opt=SGD(learning_rate=0.01,momentum=0.9)\n",
        "    model.compile(optimizer=opt,loss='categorical_crossentropy',metrics=['accuracy'])\n",
        "    return model\n",
        "\n"
      ],
      "execution_count": 0,
      "outputs": []
    },
    {
      "cell_type": "markdown",
      "metadata": {
        "id": "WJqfrnwoLrko",
        "colab_type": "text"
      },
      "source": [
        ""
      ]
    },
    {
      "cell_type": "code",
      "metadata": {
        "id": "AJEDBNiYLQuw",
        "colab_type": "code",
        "colab": {}
      },
      "source": [
        "def evaluate_model(dataX,datay,n_fold):\n",
        "  scores,histories=list(),list()\n",
        "  k_fold=KFold(n_fold,shuffle=True,random_state=1)\n",
        "  for trainix,testix in k_fold.split(dataX):\n",
        "    model=define_model()\n",
        "    trainX,trainY,testX,testY=dataX[trainix],datay[trainix],dataX[testix],datay[testix]\n",
        "    history=model.fit(trainX,trainY,epochs=10,batch_size=32,validation_data=(testX,testY),verbose=0)\n",
        "    _,acc=model.evaluate(testX,testY,verbose=0)\n",
        "    print(\"%.3f\"%(acc*100))\n",
        "    scores.append(acc)\n",
        "    histories.append(history)\n",
        "  return scores,histories\n"
      ],
      "execution_count": 0,
      "outputs": []
    },
    {
      "cell_type": "code",
      "metadata": {
        "id": "BMcEbsCkiGnj",
        "colab_type": "code",
        "colab": {}
      },
      "source": [
        "def summarize_diagnostic(histories):\n",
        "  for i in range(len(histories)):\n",
        "    pyplot.subplot(221)\n",
        "    pyplot.title('cross entropyloss')\n",
        "    pyplot.plot(histories.history['loss'],color='blue',label='train')\n",
        "    pyplot.plot(histories.history['val_loss'],color='orange',label=test)\n",
        "\n",
        "    pyplot.subplot(222)\n",
        "    pyplot.title('accuracy')\n",
        "    pyplot.plot(histories.history['accuracy'],color='blue',label='train')\n",
        "    pyplot.plot(histories.history['val_accuracy'],color='orange',label='test')\n",
        "  pyplot.show()\n"
      ],
      "execution_count": 0,
      "outputs": []
    },
    {
      "cell_type": "code",
      "metadata": {
        "id": "n4SOZIKpEZSr",
        "colab_type": "code",
        "colab": {}
      },
      "source": [
        "def summarize_performance(scores):\n",
        "  print('Accuracy: mean-%.3f std-%.3f ,n-%d'%(mean(scores)*100),std(scores)*100,len(scores))\n",
        "  pyplot.boxplot(scores)\n",
        "  pyplot.show()"
      ],
      "execution_count": 0,
      "outputs": []
    },
    {
      "cell_type": "code",
      "metadata": {
        "id": "hlQzy5D11Ud4",
        "colab_type": "code",
        "colab": {}
      },
      "source": [
        "def run_test_harness():\n",
        "  trainX,trainY,testX,testY=load_dataset()\n",
        "  trainX,testX=prep_pixel(trainX,testX)\n",
        "  scores,histories=evaluate_model(trainX,trainY,5)\n",
        "  summarize_diagnostic(histories)\n",
        "  summarize_performance(scores)\n",
        "\n"
      ],
      "execution_count": 0,
      "outputs": []
    },
    {
      "cell_type": "code",
      "metadata": {
        "id": "5UQvTROg2giO",
        "colab_type": "code",
        "colab": {
          "base_uri": "https://localhost:8080/",
          "height": 54
        },
        "outputId": "3219d787-cbd2-4631-e190-4d2694a348ff"
      },
      "source": [
        "run_test_harness()"
      ],
      "execution_count": 0,
      "outputs": [
        {
          "output_type": "stream",
          "text": [
            "98.508\n",
            "98.767\n"
          ],
          "name": "stdout"
        }
      ]
    },
    {
      "cell_type": "code",
      "metadata": {
        "id": "WarzOYiS2iUM",
        "colab_type": "code",
        "colab": {}
      },
      "source": [
        ""
      ],
      "execution_count": 0,
      "outputs": []
    }
  ]
}